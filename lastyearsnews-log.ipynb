{
 "cells": [
  {
   "cell_type": "code",
   "execution_count": 13,
   "metadata": {},
   "outputs": [],
   "source": [
    "# This is just the notebook that becomes fetch_news.py\n",
    "import csv\n",
    "import os\n",
    "from dotenv import load_dotenv\n",
    "from newsapi.newsapi_client import NewsApiClient\n",
    "\n",
    "# Get the NewsAPI key from the environment variables\n",
    "load_dotenv()\n",
    "api_key = os.getenv(\"NEWSAPI_KEY\")\n",
    "\n",
    "# Initialize the NewsAPI client\n",
    "newsapi = NewsApiClient(api_key=api_key)\n",
    "\n",
    "# Fetch the top headlines from the US and the UK in the general category, wieghting more towards the US\n",
    "top_headlines_us = newsapi.get_top_headlines(country='us', category='general', page_size=15)\n",
    "# Include just a couple of articles from the UK to limit less relevant articles & ensure we only get top headlines\n",
    "top_headlines_uk = newsapi.get_top_headlines(country='gb', category='general', page_size=5)\n",
    "\n",
    "# Combine the US and UK headlines\n",
    "top_headlines = top_headlines_us['articles'] + top_headlines_uk['articles']\n",
    "\n",
    "# Save the title, source, URL, and published date of each article to a CSV file\n",
    "with open('newslog.csv', 'w', newline='') as file:\n",
    "    writer = csv.writer(file)\n",
    "    writer.writerow(['Title', 'Source', 'PublishedAt', 'Url'])\n",
    "    \n",
    "    for article in top_headlines:\n",
    "        writer.writerow([article['title'], article['source']['name'], article['publishedAt'], article['url']])"
   ]
  },
  {
   "cell_type": "code",
   "execution_count": null,
   "metadata": {},
   "outputs": [],
   "source": []
  }
 ],
 "metadata": {
  "kernelspec": {
   "display_name": "Python 3",
   "language": "python",
   "name": "python3"
  },
  "language_info": {
   "codemirror_mode": {
    "name": "ipython",
    "version": 3
   },
   "file_extension": ".py",
   "mimetype": "text/x-python",
   "name": "python",
   "nbconvert_exporter": "python",
   "pygments_lexer": "ipython3",
   "version": "3.11.3"
  },
  "orig_nbformat": 4
 },
 "nbformat": 4,
 "nbformat_minor": 2
}
